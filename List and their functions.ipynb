{
 "cells": [
  {
   "cell_type": "markdown",
   "id": "9e923af8",
   "metadata": {},
   "source": [
    "# LIST........"
   ]
  },
  {
   "cell_type": "code",
   "execution_count": 2,
   "id": "8d4a3d52",
   "metadata": {},
   "outputs": [
    {
     "data": {
      "text/plain": [
       "list"
      ]
     },
     "execution_count": 2,
     "metadata": {},
     "output_type": "execute_result"
    }
   ],
   "source": [
    "a=[\"mon\",\"tue\",\"wed\",\"thur\",\"fri\",\"sat\",\"sun\"]\n",
    "type(a)"
   ]
  },
  {
   "cell_type": "markdown",
   "id": "e4c3ebe8",
   "metadata": {},
   "source": [
    "# create a list of...."
   ]
  },
  {
   "cell_type": "markdown",
   "id": "99f4b9a1",
   "metadata": {},
   "source": [
    "* empty       \n",
    "* only Integers\n",
    "* mix data type"
   ]
  },
  {
   "cell_type": "markdown",
   "id": "331c8144",
   "metadata": {},
   "source": [
    "\n",
    "a=[]      # a is empty list....\n",
    "type(a)"
   ]
  },
  {
   "cell_type": "code",
   "execution_count": 18,
   "id": "5e0b7944",
   "metadata": {},
   "outputs": [
    {
     "data": {
      "text/plain": [
       "list"
      ]
     },
     "execution_count": 18,
     "metadata": {},
     "output_type": "execute_result"
    }
   ],
   "source": [
    "b=[12,13,14,15,16]      # only integers....(b is integers list)\n",
    "type(b)"
   ]
  },
  {
   "cell_type": "code",
   "execution_count": 19,
   "id": "ebbafb7b",
   "metadata": {},
   "outputs": [
    {
     "data": {
      "text/plain": [
       "list"
      ]
     },
     "execution_count": 19,
     "metadata": {},
     "output_type": "execute_result"
    }
   ],
   "source": [
    "c=[\"True\",12.34,77+90j,\"None\",44,-23.9,\"aishwarya\"]     #mix data type....\n",
    "type(c)"
   ]
  },
  {
   "cell_type": "markdown",
   "id": "c179d6e0",
   "metadata": {},
   "source": [
    "# Functions of list..."
   ]
  },
  {
   "cell_type": "code",
   "execution_count": 38,
   "id": "d4fe7d13",
   "metadata": {},
   "outputs": [],
   "source": [
    "m=[\"True\",12.34,77+90j,\"None\",44,-23.9,\"aishwarya\",2,3,4,5] "
   ]
  },
  {
   "cell_type": "code",
   "execution_count": 40,
   "id": "218301bb",
   "metadata": {},
   "outputs": [
    {
     "data": {
      "text/plain": [
       "list"
      ]
     },
     "execution_count": 40,
     "metadata": {},
     "output_type": "execute_result"
    }
   ],
   "source": [
    "type(m)"
   ]
  },
  {
   "cell_type": "code",
   "execution_count": 41,
   "id": "09e5415f",
   "metadata": {},
   "outputs": [
    {
     "data": {
      "text/plain": [
       "['True', 12.34, (77+90j), 'None', 44, -23.9, 'aishwarya', 2, 3, 4, 5]"
      ]
     },
     "execution_count": 41,
     "metadata": {},
     "output_type": "execute_result"
    }
   ],
   "source": [
    "m.copy()     #(copy function)Copying a List.\n",
    "m"
   ]
  },
  {
   "cell_type": "code",
   "execution_count": 42,
   "id": "1237855b",
   "metadata": {},
   "outputs": [
    {
     "data": {
      "text/plain": [
       "[5, 4, 3, 2, 'aishwarya', -23.9, 44, 'None', (77+90j), 12.34, 'True']"
      ]
     },
     "execution_count": 42,
     "metadata": {},
     "output_type": "execute_result"
    }
   ],
   "source": [
    "m.reverse()   # (reverse function)reverses the elements of the list.\n",
    "m"
   ]
  },
  {
   "cell_type": "code",
   "execution_count": 43,
   "id": "50aa9def",
   "metadata": {},
   "outputs": [
    {
     "data": {
      "text/plain": [
       "1"
      ]
     },
     "execution_count": 43,
     "metadata": {},
     "output_type": "execute_result"
    }
   ],
   "source": [
    "m.count(44)    #(count function) returns the number of times the specified element appears in the list."
   ]
  },
  {
   "cell_type": "code",
   "execution_count": 44,
   "id": "edb09b25",
   "metadata": {},
   "outputs": [
    {
     "data": {
      "text/plain": [
       "10"
      ]
     },
     "execution_count": 44,
     "metadata": {},
     "output_type": "execute_result"
    }
   ],
   "source": [
    "m.index(\"True\") #(index function)returns the position of the element in the specified list or the characters in the string."
   ]
  },
  {
   "cell_type": "code",
   "execution_count": 45,
   "id": "fa41ada7",
   "metadata": {},
   "outputs": [
    {
     "data": {
      "text/plain": [
       "7"
      ]
     },
     "execution_count": 45,
     "metadata": {},
     "output_type": "execute_result"
    }
   ],
   "source": [
    "m.index(\"None\")   # index funtion.."
   ]
  },
  {
   "cell_type": "code",
   "execution_count": 46,
   "id": "24832de0",
   "metadata": {},
   "outputs": [
    {
     "data": {
      "text/plain": [
       "9"
      ]
     },
     "execution_count": 46,
     "metadata": {},
     "output_type": "execute_result"
    }
   ],
   "source": [
    "m.index(12.34)"
   ]
  },
  {
   "cell_type": "code",
   "execution_count": 52,
   "id": "452256d5",
   "metadata": {},
   "outputs": [
    {
     "data": {
      "text/plain": [
       "'None'"
      ]
     },
     "execution_count": 52,
     "metadata": {},
     "output_type": "execute_result"
    }
   ],
   "source": [
    "m.pop()     #(pop function)removes an item at the specified index from the list. "
   ]
  },
  {
   "cell_type": "code",
   "execution_count": 56,
   "id": "365c6eaa",
   "metadata": {},
   "outputs": [
    {
     "data": {
      "text/plain": [
       "[5, 4, 3, 2, 'aishwarya', -23.9, 44, 'True', 'True', 'True', 'True']"
      ]
     },
     "execution_count": 56,
     "metadata": {},
     "output_type": "execute_result"
    }
   ],
   "source": [
    "m.append(\"True\")   #(append function)appends an element to the end of the list.\n",
    "m"
   ]
  },
  {
   "cell_type": "markdown",
   "id": "a59f998b",
   "metadata": {},
   "source": [
    "# Tuple..."
   ]
  },
  {
   "cell_type": "markdown",
   "id": "49cb348b",
   "metadata": {},
   "source": [
    "* empty tuple\n",
    "* static tuple\n",
    "* dynamic tuple"
   ]
  },
  {
   "cell_type": "code",
   "execution_count": 8,
   "id": "eb540163",
   "metadata": {},
   "outputs": [
    {
     "data": {
      "text/plain": [
       "tuple"
      ]
     },
     "execution_count": 8,
     "metadata": {},
     "output_type": "execute_result"
    }
   ],
   "source": [
    "a=()     #empty tuple....\n",
    "type(a)"
   ]
  },
  {
   "cell_type": "code",
   "execution_count": 10,
   "id": "f112efba",
   "metadata": {},
   "outputs": [
    {
     "data": {
      "text/plain": [
       "tuple"
      ]
     },
     "execution_count": 10,
     "metadata": {},
     "output_type": "execute_result"
    }
   ],
   "source": [
    "b=(1,2,4,5,6,7)   #static tuple\n",
    "type(b)"
   ]
  },
  {
   "cell_type": "code",
   "execution_count": 13,
   "id": "958ccc4b",
   "metadata": {},
   "outputs": [
    {
     "data": {
      "text/plain": [
       "tuple"
      ]
     },
     "execution_count": 13,
     "metadata": {},
     "output_type": "execute_result"
    }
   ],
   "source": [
    "c=(\"True\",12.56,-14.90,\"None\",\"False\",)   #Dynamic tuple...\n",
    "type(c)"
   ]
  },
  {
   "cell_type": "markdown",
   "id": "65070c36",
   "metadata": {},
   "source": [
    "# functions of Tuple..."
   ]
  },
  {
   "cell_type": "code",
   "execution_count": 16,
   "id": "27efa922",
   "metadata": {},
   "outputs": [
    {
     "data": {
      "text/plain": [
       "tuple"
      ]
     },
     "execution_count": 16,
     "metadata": {},
     "output_type": "execute_result"
    }
   ],
   "source": [
    "a_1=(\"true\",12,113,114,1111,12,17,18,1118)\n",
    "type(a)"
   ]
  },
  {
   "cell_type": "code",
   "execution_count": 20,
   "id": "d9e5fe7c",
   "metadata": {},
   "outputs": [
    {
     "data": {
      "text/plain": [
       "1"
      ]
     },
     "execution_count": 20,
     "metadata": {},
     "output_type": "execute_result"
    }
   ],
   "source": [
    "a_1.index(12)   #(index function) finds the first occurrence of the specified value."
   ]
  },
  {
   "cell_type": "code",
   "execution_count": 18,
   "id": "aa2ddf1f",
   "metadata": {},
   "outputs": [
    {
     "data": {
      "text/plain": [
       "tuple"
      ]
     },
     "execution_count": 18,
     "metadata": {},
     "output_type": "execute_result"
    }
   ],
   "source": [
    "type(a_1)"
   ]
  },
  {
   "cell_type": "code",
   "execution_count": 21,
   "id": "5269ac75",
   "metadata": {},
   "outputs": [
    {
     "data": {
      "text/plain": [
       "8"
      ]
     },
     "execution_count": 21,
     "metadata": {},
     "output_type": "execute_result"
    }
   ],
   "source": [
    "a_1.index(1118)"
   ]
  },
  {
   "cell_type": "code",
   "execution_count": 22,
   "id": "42aeef76",
   "metadata": {},
   "outputs": [
    {
     "data": {
      "text/plain": [
       "4"
      ]
     },
     "execution_count": 22,
     "metadata": {},
     "output_type": "execute_result"
    }
   ],
   "source": [
    "a_1.index(1111)"
   ]
  },
  {
   "cell_type": "code",
   "execution_count": 19,
   "id": "9d884c89",
   "metadata": {},
   "outputs": [
    {
     "data": {
      "text/plain": [
       "1"
      ]
     },
     "execution_count": 19,
     "metadata": {},
     "output_type": "execute_result"
    }
   ],
   "source": [
    "a_1.count(\"true\")   #(count function)\n"
   ]
  },
  {
   "cell_type": "code",
   "execution_count": 23,
   "id": "6e845cda",
   "metadata": {},
   "outputs": [
    {
     "data": {
      "text/plain": [
       "2"
      ]
     },
     "execution_count": 23,
     "metadata": {},
     "output_type": "execute_result"
    }
   ],
   "source": [
    "a_1.count(12)"
   ]
  },
  {
   "cell_type": "markdown",
   "id": "94d11adf",
   "metadata": {},
   "source": [
    "# Sets..."
   ]
  },
  {
   "cell_type": "code",
   "execution_count": 24,
   "id": "80c78745",
   "metadata": {},
   "outputs": [
    {
     "data": {
      "text/plain": [
       "set"
      ]
     },
     "execution_count": 24,
     "metadata": {},
     "output_type": "execute_result"
    }
   ],
   "source": [
    "a={12,13,14,115,16,17}\n",
    "type(a)"
   ]
  },
  {
   "cell_type": "code",
   "execution_count": 25,
   "id": "77887bbf",
   "metadata": {},
   "outputs": [
    {
     "data": {
      "text/plain": [
       "set"
      ]
     },
     "execution_count": 25,
     "metadata": {},
     "output_type": "execute_result"
    }
   ],
   "source": [
    "b={\"true\",\"false\",\"none\"}\n",
    "type(b)"
   ]
  },
  {
   "cell_type": "markdown",
   "id": "89791c96",
   "metadata": {},
   "source": [
    "# Functions of sets..."
   ]
  },
  {
   "cell_type": "code",
   "execution_count": 27,
   "id": "310d3920",
   "metadata": {},
   "outputs": [
    {
     "data": {
      "text/plain": [
       "set"
      ]
     },
     "execution_count": 27,
     "metadata": {},
     "output_type": "execute_result"
    }
   ],
   "source": [
    "a={123,\"none\",87.90,345,23,23,43,56}\n",
    "type(a)"
   ]
  },
  {
   "cell_type": "code",
   "execution_count": 29,
   "id": "32ab8baf",
   "metadata": {},
   "outputs": [
    {
     "data": {
      "text/plain": [
       "{123, 23, 345, 43, 56, 87.9, 'none'}"
      ]
     },
     "execution_count": 29,
     "metadata": {},
     "output_type": "execute_result"
    }
   ],
   "source": [
    "a.copy() #(copy function)"
   ]
  },
  {
   "cell_type": "code",
   "execution_count": 35,
   "id": "a20bdce6",
   "metadata": {},
   "outputs": [
    {
     "data": {
      "text/plain": [
       "{123, 345, 43, 'none'}"
      ]
     },
     "execution_count": 35,
     "metadata": {},
     "output_type": "execute_result"
    }
   ],
   "source": [
    "a.pop() #(pop function)\n",
    "a"
   ]
  },
  {
   "cell_type": "markdown",
   "id": "46abb838",
   "metadata": {},
   "source": [
    "# Different functions of sets..."
   ]
  },
  {
   "cell_type": "code",
   "execution_count": 46,
   "id": "00209470",
   "metadata": {},
   "outputs": [
    {
     "data": {
      "text/plain": [
       "set"
      ]
     },
     "execution_count": 46,
     "metadata": {},
     "output_type": "execute_result"
    }
   ],
   "source": [
    "l={12,14,15,16,17,100,200}\n",
    "m={200,100,300,400,500,600}\n",
    "type(m)"
   ]
  },
  {
   "cell_type": "code",
   "execution_count": 47,
   "id": "e4ad90c9",
   "metadata": {},
   "outputs": [
    {
     "data": {
      "text/plain": [
       "{100, 200, 300, 400, 500, 600}"
      ]
     },
     "execution_count": 47,
     "metadata": {},
     "output_type": "execute_result"
    }
   ],
   "source": [
    "l.difference(m) #(difference function)\n",
    "m"
   ]
  },
  {
   "cell_type": "code",
   "execution_count": 48,
   "id": "c4b7caa6",
   "metadata": {},
   "outputs": [
    {
     "data": {
      "text/plain": [
       "{12, 14, 15, 16, 17, 100, 200}"
      ]
     },
     "execution_count": 48,
     "metadata": {},
     "output_type": "execute_result"
    }
   ],
   "source": [
    "m.difference(l) #(difference function)\n",
    "l"
   ]
  },
  {
   "cell_type": "code",
   "execution_count": 49,
   "id": "94414e8d",
   "metadata": {},
   "outputs": [
    {
     "name": "stdout",
     "output_type": "stream",
     "text": [
      "None\n"
     ]
    },
    {
     "data": {
      "text/plain": [
       "{12, 14, 15, 16, 17, 100, 200}"
      ]
     },
     "execution_count": 49,
     "metadata": {},
     "output_type": "execute_result"
    }
   ],
   "source": [
    "print(m.difference_update(l)) #(difference_update function)\n",
    "l"
   ]
  },
  {
   "cell_type": "code",
   "execution_count": 50,
   "id": "37e027c0",
   "metadata": {},
   "outputs": [
    {
     "name": "stdout",
     "output_type": "stream",
     "text": [
      "None\n"
     ]
    },
    {
     "data": {
      "text/plain": [
       "{300, 400, 500, 600}"
      ]
     },
     "execution_count": 50,
     "metadata": {},
     "output_type": "execute_result"
    }
   ],
   "source": [
    "print(l.difference_update(m)) #(difference_update function)\n",
    "m"
   ]
  },
  {
   "cell_type": "code",
   "execution_count": 51,
   "id": "2d8fe6ae",
   "metadata": {},
   "outputs": [
    {
     "name": "stdout",
     "output_type": "stream",
     "text": [
      "set()\n"
     ]
    },
    {
     "data": {
      "text/plain": [
       "{300, 400, 500, 600}"
      ]
     },
     "execution_count": 51,
     "metadata": {},
     "output_type": "execute_result"
    }
   ],
   "source": [
    "print(l.intersection(m)) #(intersection function)\n",
    "m"
   ]
  },
  {
   "cell_type": "code",
   "execution_count": 52,
   "id": "3e1d1b3c",
   "metadata": {},
   "outputs": [
    {
     "name": "stdout",
     "output_type": "stream",
     "text": [
      "None\n"
     ]
    },
    {
     "data": {
      "text/plain": [
       "{12, 14, 15, 16, 17, 100, 200}"
      ]
     },
     "execution_count": 52,
     "metadata": {},
     "output_type": "execute_result"
    }
   ],
   "source": [
    "print(m.intersection_update(l)) #(intersection_update function)\n",
    "l"
   ]
  },
  {
   "cell_type": "code",
   "execution_count": 53,
   "id": "b2d2f256",
   "metadata": {},
   "outputs": [
    {
     "name": "stdout",
     "output_type": "stream",
     "text": [
      "False\n"
     ]
    },
    {
     "data": {
      "text/plain": [
       "{12, 14, 15, 16, 17, 100, 200}"
      ]
     },
     "execution_count": 53,
     "metadata": {},
     "output_type": "execute_result"
    }
   ],
   "source": [
    "print(m.issuperset(l))   #(issuperset function)\n",
    "l"
   ]
  },
  {
   "cell_type": "code",
   "execution_count": 54,
   "id": "fa3005fb",
   "metadata": {},
   "outputs": [
    {
     "name": "stdout",
     "output_type": "stream",
     "text": [
      "True\n"
     ]
    },
    {
     "data": {
      "text/plain": [
       "set()"
      ]
     },
     "execution_count": 54,
     "metadata": {},
     "output_type": "execute_result"
    }
   ],
   "source": [
    "print(l.isdisjoint(m))  #(isdisjoint function)\n",
    "m"
   ]
  },
  {
   "cell_type": "code",
   "execution_count": 56,
   "id": "7dedfc55",
   "metadata": {},
   "outputs": [
    {
     "name": "stdout",
     "output_type": "stream",
     "text": [
      "False\n"
     ]
    },
    {
     "data": {
      "text/plain": [
       "set()"
      ]
     },
     "execution_count": 56,
     "metadata": {},
     "output_type": "execute_result"
    }
   ],
   "source": [
    "print(l.issubset(m)) #(issubset function...\"false\")\n",
    "m"
   ]
  },
  {
   "cell_type": "code",
   "execution_count": 57,
   "id": "2b38e0b4",
   "metadata": {},
   "outputs": [
    {
     "name": "stdout",
     "output_type": "stream",
     "text": [
      "True\n"
     ]
    },
    {
     "data": {
      "text/plain": [
       "{12, 14, 15, 16, 17, 100, 200}"
      ]
     },
     "execution_count": 57,
     "metadata": {},
     "output_type": "execute_result"
    }
   ],
   "source": [
    "print(m.issubset(l))  #(issubset function...\"true\")\n",
    "l"
   ]
  },
  {
   "cell_type": "code",
   "execution_count": 58,
   "id": "5583a1c6",
   "metadata": {},
   "outputs": [
    {
     "name": "stdout",
     "output_type": "stream",
     "text": [
      "{16, 17, 100, 200, 12, 14, 15}\n"
     ]
    },
    {
     "data": {
      "text/plain": [
       "{12, 14, 15, 16, 17, 100, 200}"
      ]
     },
     "execution_count": 58,
     "metadata": {},
     "output_type": "execute_result"
    }
   ],
   "source": [
    "print(m.union(l))   #(union function)\n",
    "l"
   ]
  },
  {
   "cell_type": "code",
   "execution_count": 61,
   "id": "81127b84",
   "metadata": {},
   "outputs": [
    {
     "name": "stdout",
     "output_type": "stream",
     "text": [
      "None\n"
     ]
    },
    {
     "data": {
      "text/plain": [
       "{12, 14, 15, 16, 17, 100, 200}"
      ]
     },
     "execution_count": 61,
     "metadata": {},
     "output_type": "execute_result"
    }
   ],
   "source": [
    "print(m.symmetric_difference_update(l)) #(symmetric_difference_update function)\n",
    "l"
   ]
  },
  {
   "cell_type": "code",
   "execution_count": 64,
   "id": "b0020a7a",
   "metadata": {},
   "outputs": [
    {
     "name": "stdout",
     "output_type": "stream",
     "text": [
      "None\n"
     ]
    },
    {
     "data": {
      "text/plain": [
       "{12, 14, 15, 16, 17, 100, 200}"
      ]
     },
     "execution_count": 64,
     "metadata": {},
     "output_type": "execute_result"
    }
   ],
   "source": [
    "print(l.symmetric_difference_update(m))\n",
    "m"
   ]
  },
  {
   "cell_type": "code",
   "execution_count": 69,
   "id": "88c79c75",
   "metadata": {},
   "outputs": [
    {
     "ename": "SyntaxError",
     "evalue": "invalid syntax (4145677768.py, line 1)",
     "output_type": "error",
     "traceback": [
      "\u001b[1;36m  Input \u001b[1;32mIn [69]\u001b[1;36m\u001b[0m\n\u001b[1;33m    a={123,154,324,66,879,567,22:[1,2,3]}\u001b[0m\n\u001b[1;37m                                ^\u001b[0m\n\u001b[1;31mSyntaxError\u001b[0m\u001b[1;31m:\u001b[0m invalid syntax\n"
     ]
    }
   ],
   "source": [
    "a\n",
    "type(a)"
   ]
  },
  {
   "cell_type": "code",
   "execution_count": null,
   "id": "31a65d48",
   "metadata": {},
   "outputs": [],
   "source": []
  }
 ],
 "metadata": {
  "kernelspec": {
   "display_name": "Python 3 (ipykernel)",
   "language": "python",
   "name": "python3"
  },
  "language_info": {
   "codemirror_mode": {
    "name": "ipython",
    "version": 3
   },
   "file_extension": ".py",
   "mimetype": "text/x-python",
   "name": "python",
   "nbconvert_exporter": "python",
   "pygments_lexer": "ipython3",
   "version": "3.9.12"
  }
 },
 "nbformat": 4,
 "nbformat_minor": 5
}
